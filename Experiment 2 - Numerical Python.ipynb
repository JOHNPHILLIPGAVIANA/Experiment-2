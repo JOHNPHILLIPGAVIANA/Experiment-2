{
 "cells": [
  {
   "cell_type": "markdown",
   "id": "3dd14ef3-ea38-4052-8c7f-f60399faaf6c",
   "metadata": {},
   "source": [
    "# Normalization Problem"
   ]
  },
  {
   "cell_type": "code",
   "execution_count": 3,
   "id": "aae5355d-2674-4448-9187-d6c530529b3a",
   "metadata": {},
   "outputs": [
    {
     "name": "stdout",
     "output_type": "stream",
     "text": [
      "Original X: \n",
      " [[0.14661895 0.53823886 0.66192754 0.54618685 0.38421772]\n",
      " [0.77800956 0.27841796 0.76162777 0.62045288 0.66057582]\n",
      " [0.62699421 0.49027305 0.51773044 0.9104458  0.26031804]\n",
      " [0.6974951  0.10294013 0.77644447 0.96308654 0.66023285]\n",
      " [0.19715427 0.08574931 0.7002726  0.60966152 0.0302235 ]]\n",
      "\n",
      "Mean: 0.5202118284128536\n",
      "Standard Deviation: 0.2596009959119791\n",
      "\n",
      "Normalized X (Z): \n",
      " [[-1.4391042   0.06944129  0.54589819  0.10005747 -0.5238582 ]\n",
      " [ 0.9930537  -0.93140577  0.92994998  0.3861351   0.54069126]\n",
      " [ 0.4113327  -0.11532611 -0.00955847  1.50320677 -1.00112787]\n",
      " [ 0.68290675 -1.60735786  0.98702487  1.70598231  0.53937011]\n",
      " [-1.24443884 -1.67357801  0.69360585  0.34456604 -1.88746706]]\n"
     ]
    }
   ],
   "source": [
    "import numpy as np\n",
    "\n",
    "#creates a random 5x5 array (values between 0 and 1)\n",
    "X = np.random.random((5, 5))\n",
    "\n",
    "#finds the mean of all the elements in X\n",
    "mean_X = X.mean()\n",
    "\n",
    "#finds the standard deviation (how spread out the values are)\n",
    "standard_dev_X = X.std()\n",
    "\n",
    "#apply the normalization formula\n",
    "#Z = (X - mean) / standard deviation\n",
    "#makes the new data have a mean ~0 and std ~1\n",
    "Z = (X - mean_X) / standard_dev_X\n",
    "\n",
    "#save the normalized array\n",
    "np.save(\"X_normalized.npy\", Z)\n",
    "\n",
    "#print results\n",
    "print(\"Original X: \\n\", X) #shows the 5x5 array in random\n",
    "print(\"\\nMean:\", mean_X) #shows the mean\n",
    "print(\"Standard Deviation:\", standard_dev_X) #shows the standard deviation\n",
    "print(\"\\nNormalized X (Z): \\n\", Z) #shows the normalized array "
   ]
  },
  {
   "cell_type": "markdown",
   "id": "1db6448e-13d0-4d08-8b5b-bc8ab05ae1b3",
   "metadata": {},
   "source": [
    "# Divisible by 3 Problem"
   ]
  },
  {
   "cell_type": "code",
   "execution_count": 5,
   "id": "db86cd9b-dff4-43b3-b0d0-f5114d0adbb5",
   "metadata": {},
   "outputs": [
    {
     "name": "stdout",
     "output_type": "stream",
     "text": [
      "[   9   36   81  144  225  324  441  576  729  900 1089 1296 1521 1764\n",
      " 2025 2304 2601 2916 3249 3600 3969 4356 4761 5184 5625 6084 6561 7056\n",
      " 7569 8100 8649 9216 9801]\n"
     ]
    }
   ],
   "source": [
    "import numpy as np\n",
    "\n",
    "#creates an array of integers from 1 to 100\n",
    "numbers = np.arange(1, 101)\n",
    "\n",
    "#squares each integer in the array\n",
    "squares = numbers**2\n",
    "\n",
    "#reshapes the squared values into a 10x10 matrix\n",
    "A = squares.reshape(10, 10)\n",
    "\n",
    "#selects only the squared numbers that are multiples of 3\n",
    "div_by_3 = squares[squares % 3 == 0]\n",
    "\n",
    "#saves the divisible-by-3 results into a .npy file\n",
    "np.save (\"div_by_3.npy\", div_by_3)\n",
    "\n",
    "#displays the numbers divisible by 3\n",
    "print(div_by_3)"
   ]
  }
 ],
 "metadata": {
  "kernelspec": {
   "display_name": "Python 3 (ipykernel)",
   "language": "python",
   "name": "python3"
  },
  "language_info": {
   "codemirror_mode": {
    "name": "ipython",
    "version": 3
   },
   "file_extension": ".py",
   "mimetype": "text/x-python",
   "name": "python",
   "nbconvert_exporter": "python",
   "pygments_lexer": "ipython3",
   "version": "3.13.5"
  }
 },
 "nbformat": 4,
 "nbformat_minor": 5
}
